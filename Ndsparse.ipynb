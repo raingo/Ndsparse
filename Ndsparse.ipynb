{
 "metadata": {
  "name": "Ndsparse"
 },
 "nbformat": 3,
 "nbformat_minor": 0,
 "worksheets": [
  {
   "cells": [
    {
     "cell_type": "heading",
     "level": 1,
     "metadata": {},
     "source": "Ndsparse matrix implementation in Python"
    },
    {
     "cell_type": "heading",
     "level": 2,
     "metadata": {},
     "source": "Definition of Ndsparse class"
    },
    {
     "cell_type": "code",
     "collapsed": false,
     "input": "class Ndsparse:\n    \"\"\"\n    N-dimensional sparse matrix.\n    entries: dict of positions and values in matrix\n        key: N-tuple of positions (i,k,...)\n        val: value at position\n    d: dimension\n    \"\"\"\n    \n    def __init__(self, *args, **kwargs):\n        \"\"\"\n        Constructor\n        \"\"\"\n        if len(args) == 1:\n            \n            # NDsparse from dict of pos,val pairs\n            if args[0].__class__.__name__ == 'dict':\n                # Error handling:\n                # Make sure all keys in dict are same length\n                # Make sure all indexes in keys are ints\n                # Make sure all vals in dict are numbers\n                self.entries = args[0]\n                self.d = len(args[0].iterkeys().next())\n        \n            # NDsparse from list of lists (of lists...)\n            else:\n                pass\n                \n        # Catch unsupported initialization\n        else:\n            raise Exception(\"Improper Ndsparse construction.\")\n    \n    def copy(self):\n        \"\"\"\n        Copy \"constructor\"\n        \"\"\"\n        return Ndsparse(self.entries)\n        \n    def __str__(self):\n        # Make this nicer: N=N matrix with entries...\n        return str(self.entries)\n    \n    def nnz(self):\n        \"\"\"\n        Number of nonzero entries. Number of indexed entries if no explicit 0's allowed.\n        \"\"\"\n        return len(self.entries)\n        \n    def addEntry(self,pos,val):\n        # Error handling: make sure entry doesn't overwrite existing ones\n        self.entries[pos] = val\n        \n    def addEntries(self,newEntries):\n        # Error handling: make sure entries don't overwrite existing ones\n        self.entries.update(newEntries)\n        \n    def mergePositions(self,other):\n        \"\"\"\n        Return (overlap, selfFree, otherFree) \n            overlap: set of tuples of positions where self and other overlap\n            selfFree: set of tuples of positions where only self is nonzero\n            otherFree: set of tuples of positions where only other is nonzero\n        \"\"\"\n        selfKeys = set(self.entries.keys())\n        otherKeys = set(other.entries.keys())\n        overlap = selfKeys & otherKeys\n        selfFree = selfKeys.difference(otherKeys)\n        otherFree = otherKeys.difference(selfKeys)\n        return (overlap, selfFree, otherFree) \n        \n    def __add__(self,other):\n        \"\"\"\n        Elementwise addition of self + other.\n        \"\"\"\n        # Error handling: make sure Dims are same\n        overlap, selfFree, otherFree = self.mergePositions(other)\n        out = {}\n        \n        for pos in overlap:\n            out[pos] = self.entries[pos] + other.entries[pos]\n        for pos in selfFree:\n            out[pos] = self.entries[pos]\n        for pos in otherFree:\n            out[pos] = other.entries[pos]\n        \n        return Ndsparse(out)\n        \n    def __sub__(self,other):\n        \"\"\"\n        Elementwise subtraction of self - other.\n        \"\"\"\n        # Error handling: make sure Dims are same\n        overlap, selfFree, otherFree = self.mergePositions(other)\n        out = {}\n        \n        for pos in overlap:\n            out[pos] = self.entries[pos] - other.entries[pos]\n        for pos in selfFree:\n            out[pos] = self.entries[pos]\n        for pos in otherFree:\n            out[pos] = -other.entries[pos]\n        \n        return Ndsparse(out)\n    \n    def elementwiseMultiply(self,other):\n        \"\"\"\n        Elementwise multiplication of self .* other.\n        \"\"\"\n        # Error handling: make sure Dims are same\n        overlap, selfFree, otherFree = self.mergePositions(other)\n        out = {}\n        \n        for pos in overlap:\n            out[pos] = self.entries[pos] * other.entries[pos]\n        \n        return Ndsparse(out)\n    \n    def contract(self,other,selfDim,otherDim):\n        \"\"\"\n        Tensor contraction/matrix multiplication of self . other\n        selfDim, otherDim: dimension of each matrix to contract\n        Single index contraction for now\n        Result index order: (selfIdxs\\selfDim, otherIdxs\\otherDim)\n            Can transpose after to get what you want\n        Time complexity: O(self.nnz * other.nnz)\n        \"\"\"\n        # Error handling: make sure Dims are present, contraction is proper\n        \n        # Accumulate nonzero positions \n        terms = [] # list of tuples of (pos tuple, val) to sum\n        \n        for pos1,val1 in self.entries.iteritems():\n            \n            con_idx1 = pos1[selfDim] # contracted index of self\n            keep_idx1 = list(pos1)\n            keep_idx1.remove(con_idx1) # first part of out pos\n            \n            for pos2,val2 in other.entries.iteritems():\n                \n                con_idx2 = pos2[otherDim] # contracted index of other\n                keep_idx2 = list(pos2)\n                keep_idx2.remove(con_idx2) # second part of out pos\n                \n                if con_idx1 == con_idx2: # Match entries that share contraction index\n                    val = val1 * val2\n                    pos = tuple(keep_idx1 + keep_idx2)\n                    terms.append((pos,val))\n        \n        # Sum entries\n        out = {}\n        for entry in terms:\n            pos = entry[0]\n            val = entry[1]\n            if pos not in out:\n                out[pos] = val\n            else:\n                out[pos] += val\n        \n        return Ndsparse(out)\n        \n    def __mul__(self,other):\n        \"\"\"\n        Matrix multiplication for N=2. Special case of contract, with self(i,k).other(k,j)\n            contracted over k, which has indices 1 and 0, for self and other, respectively\n        [Should apply to N>2, this is called the canonical contraction?]\n        \"\"\"\n        # Error handling: make sure both matrices are N=2\n        return self.contract(other,1,0)\n    \n    def transpose(self,permutation):\n        \"\"\"\n        Transpose Ndsparse matrix in place\n        permutation: tuple of new indices\n        Matrix starts out as (0,1,...,N) and can be transposed according to \n           the permutation (N,1,....0) or whatever, with N! possible permutations\n        Note indexing starts at 0\n        \"\"\"\n        # Error handling: make sure permutation is valid (eg, has right length)\n        # Useful extension: default transpose for N=2 matrices\n        out = {}\n        for key,value in self.entries.iteritems():\n            out[permute(key,permutation)] = value\n        self.entries = out\n        \n    def kron(self,other):\n        \"\"\"\n        Kronecker product of self (x) other\n        Only applies to 2D matrices? Completely obviated by general N-d implementation?\n        \"\"\"\n        pass\n    \n    def reshape(self,shapemat):\n        \"\"\"\n        Like the MATLAB reshape. http://www.mathworks.com/help/matlab/ref/reshape.html\n        \"\"\"\n        pass\n    \ndef permute(vec,permutation):\n    \"\"\"\n    Permute vec tuple according to permutation tuple.\n    \"\"\"\n    return tuple([vec[permutation[i]] for i in range(len(vec))])",
     "language": "python",
     "metadata": {},
     "outputs": [],
     "prompt_number": 1
    },
    {
     "cell_type": "heading",
     "level": 2,
     "metadata": {},
     "source": "Testing Ndsparse class"
    },
    {
     "cell_type": "heading",
     "level": 3,
     "metadata": {},
     "source": "2-D Matrix Testing"
    },
    {
     "cell_type": "code",
     "collapsed": false,
     "input": "x = {(0,0): 1, (2,1): 3, (1,2): 2}\ny = {(1,0): 1, (2,0): 3, (0,1): 1, (0,2): 2}\na = Ndsparse(x)\nb = Ndsparse(y)\nprint a\nprint b\nc = a*b\nprint c",
     "language": "python",
     "metadata": {},
     "outputs": [
      {
       "output_type": "stream",
       "stream": "stdout",
       "text": "{(1, 2): 2, (0, 0): 1, (2, 1): 3}\n{(0, 1): 1, (2, 0): 3, (1, 0): 1, (0, 2): 2}\n{(0, 1): 1, (2, 0): 3, (1, 0): 6, (0, 2): 2}\n"
      }
     ],
     "prompt_number": 2
    },
    {
     "cell_type": "heading",
     "level": 3,
     "metadata": {},
     "source": "N-D Matrix Testing"
    },
    {
     "cell_type": "raw",
     "metadata": {},
     "source": "Need a 3rd party worked example for 3 dims"
    },
    {
     "cell_type": "code",
     "collapsed": false,
     "input": "a1 = {(0,0,0): 3.14, (1,2,3): 4.25, (3,4,5): 2.34}\na2 = {(0,0,0): 4.36, (3,2,0): 3.25, (4,4,1): 1.34}\nq = Ndsparse(a1)\nr = Ndsparse(a2)\nprint q\nprint r\ns = q.contract(r,1,0)\nprint s",
     "language": "python",
     "metadata": {},
     "outputs": [
      {
       "output_type": "stream",
       "stream": "stdout",
       "text": "{(3, 4, 5): 2.34, (0, 0, 0): 3.14, (1, 2, 3): 4.25}\n{(3, 2, 0): 3.25, (0, 0, 0): 4.36, (4, 4, 1): 1.34}\n{(3, 5, 4, 1): 3.1356, (0, 0, 0, 0): 13.690400000000002}\n"
      }
     ],
     "prompt_number": 44
    },
    {
     "cell_type": "heading",
     "level": 2,
     "metadata": {},
     "source": "Misc Testing"
    },
    {
     "cell_type": "code",
     "collapsed": false,
     "input": "tem = {}\ntel = {(0,0): 4098, (1,2): 4139}\n\ntem.update(tel)\nprint tem\ntel.update({(0,3): 1234})\nprint tel\nprint tem.viewkeys() & tel.viewkeys()\nprint tem.viewkeys()",
     "language": "python",
     "metadata": {},
     "outputs": [
      {
       "output_type": "stream",
       "stream": "stdout",
       "text": "{(1, 2): 4139, (0, 0): 4098}\n{(1, 2): 4139, (0, 3): 1234, (0, 0): 4098}\nset([(1, 2), (0, 0)])\ndict_keys([(1, 2), (0, 0)])\n"
      }
     ],
     "prompt_number": 49
    },
    {
     "cell_type": "code",
     "collapsed": false,
     "input": "single = Ndsparse({(): 3.14})\nprint single\nprint single.d",
     "language": "python",
     "metadata": {},
     "outputs": [
      {
       "output_type": "stream",
       "stream": "stdout",
       "text": "{(): 3.14}\n0\n"
      }
     ],
     "prompt_number": 5
    },
    {
     "cell_type": "code",
     "collapsed": false,
     "input": "",
     "language": "python",
     "metadata": {},
     "outputs": []
    }
   ],
   "metadata": {}
  }
 ]
}